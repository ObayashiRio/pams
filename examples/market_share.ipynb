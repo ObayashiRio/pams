{
 "cells": [
  {
   "cell_type": "markdown",
   "metadata": {
    "id": "58xSRq9jpa-2"
   },
   "source": [
    "[![Open In Colab](https://colab.research.google.com/assets/colab-badge.svg)](http://colab.research.google.com/github/masanorihirano/pams/blob/main/examples/market_share.ipynb)"
   ]
  },
  {
   "cell_type": "code",
   "execution_count": null,
   "metadata": {
    "colab": {
     "base_uri": "https://localhost:8080/"
    },
    "id": "OwaI8_xbpa-5",
    "outputId": "1df64bd6-6e6b-4365-8f03-c6f3fc583f5e"
   },
   "outputs": [],
   "source": [
    "# Please remove comment-out if necessary\n",
    "#! pip install pams matplotlib"
   ]
  },
  {
   "cell_type": "code",
   "execution_count": null,
   "metadata": {},
   "outputs": [],
   "source": [
    "from pams import Market\n",
    "from typing import Any\n",
    "from typing import Dict\n",
    "import numpy as np"
   ]
  },
  {
   "cell_type": "markdown",
   "metadata": {},
   "source": [
    "## Only MarketShareFCNAgents"
   ]
  },
  {
   "cell_type": "code",
   "execution_count": null,
   "outputs": [],
   "source": [
    "class ExtendedMarket(Market):\n",
    "    def setup(self, settings: Dict[str, Any], *args, **kwargs) -> None:\n",
    "        super(ExtendedMarket, self).setup(settings, *args, **kwargs)\n",
    "        if \"tradeVolume\" in settings:\n",
    "            if not isinstance(settings[\"tradeVolume\"], int):\n",
    "                raise ValueError(\"tradeVolume must be int\")\n",
    "            self._executed_volumes = [int(settings[\"tradeVolume\"])]"
   ],
   "metadata": {
    "collapsed": false
   }
  },
  {
   "cell_type": "code",
   "execution_count": null,
   "outputs": [],
   "source": [
    "from pams.logs import MarketStepEndLog\n",
    "from pams.logs.market_step_loggers import MarketStepSaver\n",
    "\n",
    "class MarketStepSaverForMarketShare(MarketStepSaver):\n",
    "    def process_market_step_end_log(self, log: MarketStepEndLog) -> None:\n",
    "        self.market_step_logs.append(\n",
    "            {\n",
    "                \"session_id\": log.session.session_id,\n",
    "                \"market_time\": log.market.get_time(),\n",
    "                \"market_id\": log.market.market_id,\n",
    "                \"market_name\": log.market.name,\n",
    "                \"market_price\": log.market.get_market_price(),\n",
    "                \"fundamental_price\": log.market.get_fundamental_price(),\n",
    "\t\t\t\t\"executed_volume\": log.market.get_executed_volume(),\n",
    "            }\n",
    "        )"
   ],
   "metadata": {
    "collapsed": false
   }
  },
  {
   "cell_type": "code",
   "execution_count": null,
   "metadata": {
    "id": "ixLeaU7Epa-5"
   },
   "outputs": [],
   "source": [
    "config1 = {\n",
    "\t\"simulation\": {\n",
    "\t\t\"markets\": [\"Market-A\", \"Market-B\"],\n",
    "\t\t\"agents\": [\"MarketShareFCNAgents\"],\n",
    "\t\t\"sessions\": [\n",
    "\t\t\t{\t\"sessionName\": 0,\n",
    "\t\t\t\t\"iterationSteps\": 100,\n",
    "\t\t\t\t\"withOrderPlacement\": True,\n",
    "\t\t\t\t\"withOrderExecution\": False,\n",
    "\t\t\t\t\"withPrint\": True\n",
    "\t\t\t},\n",
    "\t\t\t{\t\"sessionName\": 1,\n",
    "\t\t\t\t\"iterationSteps\": 2000,\n",
    "\t\t\t\t\"withOrderPlacement\": True,\n",
    "\t\t\t\t\"withOrderExecution\": True,\n",
    "\t\t\t\t\"withPrint\": True,\n",
    "\t\t\t\t\"maxHighFrequencyOrders\": 1\n",
    "\t\t\t}\n",
    "\t\t]\n",
    "\t},\n",
    "\n",
    "\t\"Market-A\": {\n",
    "\t\t\"class\": \"ExtendedMarket\",\n",
    "\t\t\"tickSize\": 10.0,\n",
    "\t\t\"marketPrice\": 300.0,\n",
    "\t\t\"outstandingShares\": 25000,\n",
    "\n",
    "\t\t\"MEMO\": \"Required only here\",\n",
    "\t\t\"tradeVolume\": 90\n",
    "\t},\n",
    "\n",
    "\t\"Market-B\": {\n",
    "\t\t\"class\": \"ExtendedMarket\",\n",
    "\t\t\"tickSize\": 1.0,\n",
    "\t\t\"marketPrice\": 300.0,\n",
    "\t\t\"outstandingShares\": 25000,\n",
    "\n",
    "\t\t\"MEMO\": \"Required only here\",\n",
    "\t\t\"tradeVolume\": 10\n",
    "\t},\n",
    "\n",
    "\t\"MarketShareFCNAgents\": {\n",
    "\t\t\"class\": \"MarketShareFCNAgent\",\n",
    "\t\t\"numAgents\": 100,\n",
    "\n",
    "\t\t\"MEMO\": \"Agent class\",\n",
    "\t\t\"markets\": [\"Market-A\", \"Market-B\"],\n",
    "\t\t\"assetVolume\": 50,\n",
    "\t\t\"cashAmount\": 10000,\n",
    "\n",
    "\t\t\"MEMO\": \"FCNAgent class\",\n",
    "\t\t\"fundamentalWeight\": {\"expon\": [1.0]},\n",
    "\t\t\"chartWeight\": {\"expon\": [0.2]},\n",
    "\t\t\"noiseWeight\": {\"expon\": [1.0]},\n",
    "\t\t\"noiseScale\": 0.0001,\n",
    "\t\t\"timeWindowSize\": [100, 200],\n",
    "\t\t\"orderMargin\": [0.0, 0.1],\n",
    "\t\t\"marginType\": \"normal\"\n",
    "\t}\n",
    "}"
   ]
  },
  {
   "cell_type": "code",
   "execution_count": null,
   "metadata": {
    "colab": {
     "base_uri": "https://localhost:8080/"
    },
    "id": "3QXSkEw2pa-6",
    "outputId": "fb454d0c-57b3-4cb6-d6ad-4512dbe429c1"
   },
   "outputs": [],
   "source": [
    "import random\n",
    "import matplotlib.pyplot as plt\n",
    "from pams.runners import SequentialRunner\n",
    "\n",
    "saver = MarketStepSaverForMarketShare()\n",
    "\n",
    "runner = SequentialRunner(\n",
    "    settings=config1,\n",
    "    prng=random.Random(42),\n",
    "    logger=saver,\n",
    ")\n",
    "runner.class_register(cls=ExtendedMarket)\n",
    "runner.main()"
   ]
  },
  {
   "cell_type": "code",
   "execution_count": null,
   "metadata": {
    "id": "P5_pyTa9pa-6"
   },
   "outputs": [],
   "source": [
    "market_prices_market_a = dict(sorted(map(lambda x: (x[\"market_time\"], x[\"market_price\"]), filter(lambda x: x[\"market_name\"] == \"Market-A\", saver.market_step_logs))))\n",
    "market_prices_market_b = dict(sorted(map(lambda x: (x[\"market_time\"], x[\"market_price\"]), filter(lambda x: x[\"market_name\"] == \"Market-B\", saver.market_step_logs))))\n",
    "\n",
    "fundamental_prices_market_a = dict(sorted(map(lambda x: (x[\"market_time\"], x[\"fundamental_price\"]), filter(lambda x: x[\"market_name\"] == \"Market-A\", saver.market_step_logs))))\n",
    "fundamental_prices_market_b = dict(sorted(map(lambda x: (x[\"market_time\"], x[\"fundamental_price\"]), filter(lambda x: x[\"market_name\"] == \"Market-B\", saver.market_step_logs))))"
   ]
  },
  {
   "cell_type": "code",
   "execution_count": null,
   "metadata": {
    "colab": {
     "base_uri": "https://localhost:8080/",
     "height": 449
    },
    "id": "c__AgWzapa-7",
    "outputId": "456ed7cb-0b14-4774-845c-da50b68a7031"
   },
   "outputs": [],
   "source": [
    "plt.plot(list(market_prices_market_a.keys()), list(market_prices_market_a.values()), label=\"Market-A\")\n",
    "plt.plot(list(market_prices_market_b.keys()), list(market_prices_market_b.values()), label=\"Market-B\")\n",
    "plt.xlabel(\"ticks\")\n",
    "plt.ylabel(\"market price\")\n",
    "plt.legend()\n",
    "plt.show()"
   ]
  },
  {
   "cell_type": "code",
   "execution_count": null,
   "outputs": [],
   "source": [
    "executed_volumes_market_a = np.convolve(np.ones(100), np.asarray(list(map(lambda x: x[\"executed_volume\"], filter(lambda x: x[\"market_name\"] == \"Market-A\", saver.market_step_logs)))[101:]), mode=\"valid\")\n",
    "executed_volumes_market_b = np.convolve(np.ones(100), np.asarray(list(map(lambda x: x[\"executed_volume\"], filter(lambda x: x[\"market_name\"] == \"Market-B\", saver.market_step_logs)))[101:]), mode=\"valid\")\n",
    "executed_volumes_total = executed_volumes_market_a + executed_volumes_market_b"
   ],
   "metadata": {
    "collapsed": false
   }
  },
  {
   "cell_type": "code",
   "execution_count": null,
   "outputs": [],
   "source": [
    "plt.plot(executed_volumes_market_a / executed_volumes_total, label=\"Market-A\")\n",
    "plt.plot(executed_volumes_market_b / executed_volumes_total, label=\"Market-B\")\n",
    "plt.xlabel(\"ticks\")\n",
    "plt.ylabel(\"market share\")\n",
    "plt.legend()\n",
    "plt.show()"
   ],
   "metadata": {
    "collapsed": false
   }
  },
  {
   "cell_type": "markdown",
   "metadata": {},
   "source": [
    "## MarketShareFCNAgents + MarketMakerAgent"
   ]
  },
  {
   "cell_type": "code",
   "execution_count": null,
   "metadata": {},
   "outputs": [],
   "source": [
    "config2 = {\n",
    "\t\"simulation\": {\n",
    "\t\t\"markets\": [\"Market-A\", \"Market-B\"],\n",
    "\t\t\"agents\": [\"MarketShareFCNAgents\", \"MarketMakerAgent\"],\n",
    "\t\t\"sessions\": [\n",
    "\t\t\t{\t\"sessionName\": 0,\n",
    "\t\t\t\t\"iterationSteps\": 100,\n",
    "\t\t\t\t\"withOrderPlacement\": True,\n",
    "\t\t\t\t\"withOrderExecution\": False,\n",
    "\t\t\t\t\"withPrint\": True\n",
    "\t\t\t},\n",
    "\t\t\t{\t\"sessionName\": 1,\n",
    "\t\t\t\t\"iterationSteps\": 2000,\n",
    "\t\t\t\t\"withOrderPlacement\": True,\n",
    "\t\t\t\t\"withOrderExecution\": True,\n",
    "\t\t\t\t\"withPrint\": True,\n",
    "\t\t\t\t\"maxHighFrequencyOrders\": 1\n",
    "\t\t\t}\n",
    "\t\t]\n",
    "\t},\n",
    "\n",
    "\t\"Market-A\": {\n",
    "\t\t\"class\": \"ExtendedMarket\",\n",
    "\t\t\"tickSize\": 0.00001,\n",
    "\t\t\"marketPrice\": 300.0,\n",
    "\t\t\"outstandingShares\": 25000,\n",
    "\n",
    "\t\t\"MEMO\": \"Required only here\",\n",
    "\t\t\"tradeVolume\": 50\n",
    "\t},\n",
    "\n",
    "\t\"Market-B\": {\n",
    "\t\t\"class\": \"ExtendedMarket\",\n",
    "\t\t\"tickSize\": 0.00001,\n",
    "\t\t\"marketPrice\": 300.0,\n",
    "\t\t\"outstandingShares\": 25000,\n",
    "\n",
    "\t\t\"MEMO\": \"Required only here\",\n",
    "\t\t\"tradeVolume\": 50\n",
    "\t},\n",
    "\n",
    "\t\"MarketShareFCNAgents\": {\n",
    "\t\t\"class\": \"MarketShareFCNAgent\",\n",
    "\t\t\"numAgents\": 100,\n",
    "\n",
    "\t\t\"MEMO\": \"Agent class\",\n",
    "\t\t\"markets\": [\"Market-A\", \"Market-B\"],\n",
    "\t\t\"assetVolume\": 50,\n",
    "\t\t\"cashAmount\": 10000,\n",
    "\n",
    "\t\t\"MEMO\": \"FCNAgent class\",\n",
    "\t\t\"fundamentalWeight\": {\"expon\": [1.0]},\n",
    "\t\t\"chartWeight\": {\"expon\": [0.0]},\n",
    "\t\t\"noiseWeight\": {\"expon\": [1.0]},\n",
    "\t\t\"noiseScale\": 0.001,\n",
    "\t\t\"timeWindowSize\": [100, 200],\n",
    "\t\t\"orderMargin\": [0.0, 0.1]\n",
    "\t},\n",
    "\n",
    "\t\"MarketMakerAgent\": {\n",
    "\t\t\"class\": \"MarketMakerAgent\",\n",
    "\t\t\"numAgents\": 1,\n",
    "\n",
    "\t\t\"markets\": [\"Market-B\"],\n",
    "\t\t\"assetVolume\": 50,\n",
    "\t\t\"cashAmount\": 10000,\n",
    "\n",
    "\t\t\"targetMarket\": \"Market-B\",\n",
    "\t\t\"netInterestSpread\": 0.02,\n",
    "\t\t\"orderTimeLength\": 100\n",
    "\t}\n",
    "}"
   ]
  },
  {
   "cell_type": "code",
   "execution_count": null,
   "metadata": {},
   "outputs": [],
   "source": [
    "saver = MarketStepSaverForMarketShare()\n",
    "\n",
    "runner = SequentialRunner(\n",
    "    settings=config2,\n",
    "    prng=random.Random(42),\n",
    "    logger=saver,\n",
    ")\n",
    "runner.class_register(cls=ExtendedMarket)\n",
    "runner.main()"
   ]
  },
  {
   "cell_type": "code",
   "execution_count": null,
   "metadata": {},
   "outputs": [],
   "source": [
    "market_prices_market_a = dict(sorted(map(lambda x: (x[\"market_time\"], x[\"market_price\"]), filter(lambda x: x[\"market_name\"] == \"Market-A\", saver.market_step_logs))))\n",
    "market_prices_market_b = dict(sorted(map(lambda x: (x[\"market_time\"], x[\"market_price\"]), filter(lambda x: x[\"market_name\"] == \"Market-B\", saver.market_step_logs))))\n",
    "\n",
    "fundamental_prices_market_a = dict(sorted(map(lambda x: (x[\"market_time\"], x[\"fundamental_price\"]), filter(lambda x: x[\"market_name\"] == \"Market-A\", saver.market_step_logs))))\n",
    "fundamental_prices_market_b = dict(sorted(map(lambda x: (x[\"market_time\"], x[\"fundamental_price\"]), filter(lambda x: x[\"market_name\"] == \"Market-B\", saver.market_step_logs))))"
   ]
  },
  {
   "cell_type": "code",
   "execution_count": null,
   "metadata": {},
   "outputs": [],
   "source": [
    "plt.plot(list(market_prices_market_a.keys()), list(market_prices_market_a.values()), label=\"Market-A\")\n",
    "plt.plot(list(market_prices_market_b.keys()), list(market_prices_market_b.values()), label=\"Market-B\")\n",
    "#plt.plot(list(fundamental_prices_market_a.keys()), list(fundamental_prices_market_a.values()), color='black')\n",
    "#plt.plot(list(fundamental_prices_market_b.keys()), list(fundamental_prices_market_b.values()), color='black')\n",
    "plt.xlabel(\"ticks\")\n",
    "plt.ylabel(\"market price\")\n",
    "plt.legend()\n",
    "plt.show()"
   ]
  },
  {
   "cell_type": "code",
   "execution_count": null,
   "outputs": [],
   "source": [
    "executed_volumes_market_a = np.convolve(np.ones(100), np.asarray(list(map(lambda x: x[\"executed_volume\"], filter(lambda x: x[\"market_name\"] == \"Market-A\", saver.market_step_logs)))[101:]), mode=\"valid\")\n",
    "executed_volumes_market_b = np.convolve(np.ones(100), np.asarray(list(map(lambda x: x[\"executed_volume\"], filter(lambda x: x[\"market_name\"] == \"Market-B\", saver.market_step_logs)))[101:]), mode=\"valid\")\n",
    "executed_volumes_total = executed_volumes_market_a + executed_volumes_market_b"
   ],
   "metadata": {
    "collapsed": false
   }
  },
  {
   "cell_type": "code",
   "execution_count": null,
   "outputs": [],
   "source": [
    "plt.plot(executed_volumes_market_a / executed_volumes_total, label=\"Market-A\")\n",
    "plt.plot(executed_volumes_market_b / executed_volumes_total, label=\"Market-B\")\n",
    "plt.xlabel(\"ticks\")\n",
    "plt.ylabel(\"market share\")\n",
    "plt.legend()\n",
    "plt.show()"
   ],
   "metadata": {
    "collapsed": false
   }
  }
 ],
 "metadata": {
  "colab": {
   "provenance": []
  },
  "kernelspec": {
   "display_name": "Python 3 (ipykernel)",
   "language": "python",
   "name": "python3"
  },
  "language_info": {
   "codemirror_mode": {
    "name": "ipython",
    "version": 3
   },
   "file_extension": ".py",
   "mimetype": "text/x-python",
   "name": "python",
   "nbconvert_exporter": "python",
   "pygments_lexer": "ipython3",
   "version": "3.8.13"
  }
 },
 "nbformat": 4,
 "nbformat_minor": 1
}
