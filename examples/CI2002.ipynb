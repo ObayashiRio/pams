{
 "cells": [
  {
   "cell_type": "markdown",
   "source": [],
   "metadata": {
    "collapsed": false
   }
  },
  {
   "cell_type": "markdown",
   "source": [
    "[![Open In Colab](https://colab.research.google.com/assets/colab-badge.svg)](http://colab.research.google.com/github/masanorihirano/pams/blob/main/examples/CI2002.ipynb)"
   ],
   "metadata": {
    "collapsed": false
   }
  },
  {
   "cell_type": "code",
   "execution_count": null,
   "metadata": {
    "collapsed": true
   },
   "outputs": [],
   "source": [
    "# Please remove comment-out if necessary\n",
    "# !pip install pams matplotlib"
   ]
  },
  {
   "cell_type": "code",
   "execution_count": null,
   "outputs": [],
   "source": [
    "config = {\n",
    "\t\"simulation\": {\n",
    "\t\t\"markets\": [\"Market\"],\n",
    "\t\t\"agents\": [\"FCNAgents\"],\n",
    "\t\t\"sessions\": [\n",
    "\t\t\t{\t\"sessionName\": 0,\n",
    "\t\t\t\t\"iterationSteps\": 100,\n",
    "\t\t\t\t\"withOrderPlacement\": True,\n",
    "\t\t\t\t\"withOrderExecution\": False,\n",
    "\t\t\t\t\"withPrint\": True,\n",
    "\t\t\t\t\"hiFrequencySubmitRate\": 1.0\n",
    "\t\t\t},\n",
    "\t\t\t{\t\"sessionName\": 1,\n",
    "\t\t\t\t\"iterationSteps\": 500,\n",
    "\t\t\t\t\"withOrderPlacement\": True,\n",
    "\t\t\t\t\"withOrderExecution\": True,\n",
    "\t\t\t\t\"withPrint\": True\n",
    "\t\t\t}\n",
    "\t\t]\n",
    "\t},\n",
    "\n",
    "\t\"Market\": {\n",
    "\t\t\"class\": \"Market\",\n",
    "\t\t\"tickSize\": 0.00001,\n",
    "\t\t\"marketPrice\": 300.0\n",
    "\t},\n",
    "\t\"FCNAgents\": {\n",
    "\t\t\"class\": \"FCNAgent\",\n",
    "\t\t\"numAgents\": 100,\n",
    "\n",
    "\t\t\"markets\": [\"Market\"],\n",
    "\t\t\"assetVolume\": 50,\n",
    "\t\t\"cashAmount\": 10000,\n",
    "\n",
    "\t\t\"fundamentalWeight\": {\"expon\": [1.0]},\n",
    "\t\t\"chartWeight\": {\"expon\": [0.0]},\n",
    "\t\t\"noiseWeight\": {\"expon\": [1.0]},\n",
    "\t\t\"meanReversionTime\":{\"uniform\":[50,100]},\n",
    "\t\t\"noiseScale\": 0.001,\n",
    "\t\t\"timeWindowSize\": [100, 200],\n",
    "\t\t\"orderMargin\": [0.0, 0.1]\n",
    "\t}\n",
    "}"
   ],
   "metadata": {
    "collapsed": false
   }
  },
  {
   "cell_type": "code",
   "execution_count": null,
   "outputs": [],
   "source": [
    "import random\n",
    "import matplotlib.pyplot as plt\n",
    "from pams.runners import SequentialRunner\n",
    "from pams.logs.market_step_loggers import MarketStepSaver"
   ],
   "metadata": {
    "collapsed": false
   }
  },
  {
   "cell_type": "code",
   "execution_count": null,
   "outputs": [],
   "source": [
    "saver = MarketStepSaver()\n",
    "\n",
    "runner = SequentialRunner(\n",
    "    settings=config,\n",
    "    prng=random.Random(42),\n",
    "    logger=saver,\n",
    ")\n",
    "runner.main()"
   ],
   "metadata": {
    "collapsed": false
   }
  },
  {
   "cell_type": "code",
   "execution_count": null,
   "outputs": [],
   "source": [
    "market_price_dict = dict(sorted(map(lambda x: (x[\"market_time\"], x[\"market_price\"]), filter(lambda x: x[\"market_time\"] >= 100, saver.market_step_logs))))"
   ],
   "metadata": {
    "collapsed": false
   }
  },
  {
   "cell_type": "code",
   "execution_count": null,
   "outputs": [],
   "source": [
    "plt.plot(list(market_price_dict.keys()), list(market_price_dict.values()))\n",
    "plt.xlabel(\"ticks\")\n",
    "plt.ylabel(\"market price\")\n",
    "plt.show()"
   ],
   "metadata": {
    "collapsed": false
   }
  }
 ],
 "metadata": {
  "kernelspec": {
   "display_name": "Python 3",
   "language": "python",
   "name": "python3"
  },
  "language_info": {
   "codemirror_mode": {
    "name": "ipython",
    "version": 2
   },
   "file_extension": ".py",
   "mimetype": "text/x-python",
   "name": "python",
   "nbconvert_exporter": "python",
   "pygments_lexer": "ipython2",
   "version": "2.7.6"
  }
 },
 "nbformat": 4,
 "nbformat_minor": 0
}
