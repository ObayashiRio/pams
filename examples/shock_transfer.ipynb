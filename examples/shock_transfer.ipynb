{
  "cells": [
    {
      "cell_type": "markdown",
      "metadata": {
        "id": "KCI4qIU_pa-1"
      },
      "source": []
    },
    {
      "cell_type": "markdown",
      "metadata": {
        "id": "58xSRq9jpa-2"
      },
      "source": [
        "[![Open In Colab](https://colab.research.google.com/assets/colab-badge.svg)](http://colab.research.google.com/github/masanorihirano/pams/blob/main/examples/shock_transfer.ipynb)"
      ]
    },
    {
      "cell_type": "code",
      "execution_count": 1,
      "metadata": {
        "id": "OwaI8_xbpa-5"
      },
      "outputs": [],
      "source": [
        "# Please remove comment-out if necessary\n",
        "#! pip install pams matplotlib"
      ]
    },
    {
      "cell_type": "code",
      "execution_count": 2,
      "metadata": {
        "id": "ixLeaU7Epa-5"
      },
      "outputs": [],
      "source": [
        "config = {\n",
        "\t\"simulation\": {\n",
        "\t\t\"markets\": [\"SpotMarket-1\", \"SpotMarket-2\", \"IndexMarket-I\"],\n",
        "\t\t\"agents\": [\"FCNAgents-1\", \"FCNAgents-2\", \"FCNAgents-I\", \"ArbitrageAgents\"],\n",
        "\t\t\"sessions\": [\n",
        "\t\t\t{\t\"sessionName\": 0,\n",
        "\t\t\t\t\"iterationSteps\": 100,\n",
        "\t\t\t\t\"withOrderPlacement\": True,\n",
        "\t\t\t\t\"withOrderExecution\": False,\n",
        "\t\t\t\t\"withPrint\": True,\n",
        "\t\t\t\t\"maxNormalOrders\": 3, \"MEMO\": \"The same number as #markets\",\n",
        "\t\t\t\t\"maxHifreqOrders\": 0\n",
        "\t\t\t},\n",
        "\t\t\t{\t\"sessionName\": 1,\n",
        "\t\t\t\t\"iterationSteps\": 500,\n",
        "\t\t\t\t\"withOrderPlacement\": True,\n",
        "\t\t\t\t\"withOrderExecution\": True,\n",
        "\t\t\t\t\"withPrint\": True,\n",
        "\t\t\t\t\"maxNormalOrders\": 3, \"MEMO\": \"The same number as #markets\",\n",
        "\t\t\t\t\"maxHifreqOrders\": 5,\n",
        "\t\t\t\t\"events\": [\"FundamentalPriceShock\"]\n",
        "\t\t\t}\n",
        "\t\t]\n",
        "\t},\n",
        "\n",
        "\t\"FundamentalPriceShock\": {\n",
        "\t\t\"class\": \"FundamentalPriceShock\",\n",
        "\t\t\"target\": \"SpotMarket-1\",\n",
        "\t\t\"triggerTime\": 0,\n",
        "\t\t\"priceChangeRate\": -0.1,\n",
        "\t\t\"enabled\": True\n",
        "\t},\n",
        "\t\"SpotMarket\": {\n",
        "\t\t\"class\": \"Market\",\n",
        "\t\t\"tickSize\": 0.00001,\n",
        "\t\t\"marketPrice\": 300.0,\n",
        "\t\t\"outstandingShares\": 25000\n",
        "\t},\n",
        "\t\"SpotMarket-1\": {\n",
        "\t\t\"extends\": \"SpotMarket\"\n",
        "\t},\n",
        "\t\"SpotMarket-2\": {\n",
        "\t\t\"extends\": \"SpotMarket\"\n",
        "\t},\n",
        "\t\"IndexMarket-I\": {\n",
        "\t\t\"class\": \"IndexMarket\",\n",
        "\t\t\"tickSize\": 0.00001,\n",
        "\t\t\"marketPrice\": 300.0,\n",
        "\t\t\"outstandingShares\": 25000,\n",
        "\t\t\"markets\": [\"SpotMarket-1\", \"SpotMarket-2\"]\n",
        "\t},\n",
        "\t\"FCNAgent\": {\n",
        "\t\t\"class\": \"FCNAgent\",\n",
        "\t\t\"numAgents\": 100,\n",
        "\t\t\"markets\": [\"Market\"],\n",
        "\t\t\"assetVolume\": 50,\n",
        "\t\t\"cashAmount\": 10000,\n",
        "\n",
        "\t\t\"fundamentalWeight\": {\"expon\": [1.0]},\n",
        "\t\t\"chartWeight\": {\"expon\": [0.0]},\n",
        "\t\t\"noiseWeight\": {\"expon\": [1.0]},\n",
        "\t\t\"noiseScale\": 0.001,\n",
        "\t\t\"timeWindowSize\": [100, 200],\n",
        "\t\t\"orderMargin\": [0.0, 0.1]\n",
        "\t},\n",
        "\n",
        "\t\"FCNAgents-1\": {\n",
        "\t\t\"extends\": \"FCNAgent\",\n",
        "\t\t\"markets\": [\"SpotMarket-1\"],\n",
        "\t\t\"fundamentalWeight\": {\"expon\": [1.0]},\n",
        "\t\t\"chartWeight\": {\"expon\": [0.0]},\n",
        "\t\t\"noiseWeight\": {\"expon\": [1.0]}\n",
        "\t},\n",
        "\t\"FCNAgents-2\": {\n",
        "\t\t\"extends\": \"FCNAgent\",\n",
        "\t\t\"markets\": [\"SpotMarket-2\"],\n",
        "\t\t\"fundamentalWeight\": {\"expon\": [0.0]},\n",
        "\t\t\"chartWeight\": {\"expon\": [0.0]},\n",
        "\t\t\"noiseWeight\": {\"expon\": [0.2]}\n",
        "\t},\n",
        "\t\"FCNAgents-I\": {\n",
        "\t\t\"extends\": \"FCNAgent\",\n",
        "\t\t\"markets\": [\"IndexMarket-I\"],\n",
        "\t\t\"fundamentalWeight\": {\"expon\": [0.5]},\n",
        "\t\t\"chartWeight\": {\"expon\": [0.0]},\n",
        "\t\t\"noiseWeight\": {\"expon\": [1.0]}\n",
        "\t},\n",
        "\t\"ArbitrageAgents\": {\n",
        "\t\t\"class\": \"ArbitrageAgent\",\n",
        "\t\t\"numAgents\": 100,\n",
        "\t\t\"markets\": [\"IndexMarket-I\", \"SpotMarket-1\", \"SpotMarket-2\"],\n",
        "\t\t\"assetVolume\": 50,\n",
        "\t\t\"cashAmount\": 150000,\n",
        "\t\t\"orderVolume\": 1,\n",
        "\t\t\"orderThresholdPrice\": 1.0\n",
        "\t}\n",
        "}"
      ]
    },
    {
      "cell_type": "code",
      "execution_count": 3,
      "metadata": {
        "id": "xUUUfulSpa-6"
      },
      "outputs": [],
      "source": [
        "import random\n",
        "import numpy as np\n",
        "import matplotlib.pyplot as plt\n",
        "from pams.runners import SequentialRunner\n",
        "from pams.logs.market_step_loggers import MarketStepSaver#PrintLogger"
      ]
    },
    {
      "cell_type": "code",
      "execution_count": 4,
      "metadata": {
        "colab": {
          "base_uri": "https://localhost:8080/"
        },
        "id": "3QXSkEw2pa-6",
        "outputId": "255e80ff-e174-4f96-dbd8-12b3cc8e3835"
      },
      "outputs": [
        {
          "output_type": "stream",
          "name": "stderr",
          "text": [
            "/usr/local/lib/python3.9/dist-packages/pams/market.py:446: UserWarning: order price does not accord to the tick size. price will be modified\n",
            "  warnings.warn(\n"
          ]
        },
        {
          "output_type": "stream",
          "name": "stdout",
          "text": [
            "# INITIALIZATION TIME 0.007541969\n",
            "# EXECUTION TIME 0.535983768\n"
          ]
        }
      ],
      "source": [
        "saver = MarketStepSaver() #PrintLogger()\n",
        "\n",
        "runner = SequentialRunner(\n",
        "    settings=config,\n",
        "    prng=random.Random(42),\n",
        "    logger=saver,\n",
        ")\n",
        "runner.main()"
      ]
    },
    {
      "cell_type": "code",
      "execution_count": 5,
      "metadata": {
        "id": "P5_pyTa9pa-6"
      },
      "outputs": [],
      "source": [
        "market_prices_indexmarket_i = dict(sorted(map(lambda x: (x[\"market_time\"], x[\"market_price\"]), filter(lambda x: x[\"market_time\"] >= 100 and x[\"market_name\"] == \"IndexMarket-I\", saver.market_step_logs))))\n",
        "market_prices_spotmarket_1 = dict(sorted(map(lambda x: (x[\"market_time\"], x[\"market_price\"]), filter(lambda x: x[\"market_time\"] >= 100 and x[\"market_name\"] == \"SpotMarket-1\", saver.market_step_logs))))\n",
        "market_prices_spotmarket_2 = dict(sorted(map(lambda x: (x[\"market_time\"], x[\"market_price\"]), filter(lambda x: x[\"market_time\"] >= 100 and x[\"market_name\"] == \"SpotMarket-2\", saver.market_step_logs))))"
      ]
    },
    {
      "cell_type": "code",
      "execution_count": 6,
      "metadata": {
        "colab": {
          "base_uri": "https://localhost:8080/",
          "height": 279
        },
        "id": "c__AgWzapa-7",
        "outputId": "241b483b-6eb9-4aac-a06b-805367c1a3b9"
      },
      "outputs": [
        {
          "output_type": "display_data",
          "data": {
            "text/plain": [
              "<Figure size 432x288 with 1 Axes>"
            ],
            "image/png": "[encoded data removed]"
          },
          "metadata": {
            "needs_background": "light"
          }
        }
      ],
      "source": [
        "plt.plot(list(market_prices_indexmarket_i.keys()), list(market_prices_indexmarket_i.values()), label=\"IndexMarket-I\")\n",
        "plt.plot(list(market_prices_spotmarket_1.keys()), list(market_prices_spotmarket_1.values()), label=\"SpotMarket-1\")\n",
        "plt.plot(list(market_prices_spotmarket_2.keys()), list(market_prices_spotmarket_2.values()), label=\"SpotMarket-2\")\n",
        "plt.xlabel(\"ticks\")\n",
        "plt.ylabel(\"market price\")\n",
        "plt.legend()\n",
        "plt.show()"
      ]
    },
    {
      "cell_type": "code",
      "execution_count": null,
      "metadata": {
        "id": "aVsDnfX7pa-7"
      },
      "outputs": [],
      "source": []
    }
  ],
  "metadata": {
    "kernelspec": {
      "display_name": "Python 3 (ipykernel)",
      "language": "python",
      "name": "python3"
    },
    "language_info": {
      "codemirror_mode": {
        "name": "ipython",
        "version": 3
      },
      "file_extension": ".py",
      "mimetype": "text/x-python",
      "name": "python",
      "nbconvert_exporter": "python",
      "pygments_lexer": "ipython3",
      "version": "3.9.12"
    },
    "colab": {
      "provenance": []
    }
  },
  "nbformat": 4,
  "nbformat_minor": 0
}